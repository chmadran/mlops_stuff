{
 "cells": [
  {
   "cell_type": "markdown",
   "metadata": {},
   "source": [
    "## HOMEWORK 1"
   ]
  },
  {
   "cell_type": "code",
   "execution_count": 1,
   "metadata": {},
   "outputs": [
    {
     "name": "stderr",
     "output_type": "stream",
     "text": [
      "/home/codespace/anaconda3/lib/python3.9/site-packages/pandas/core/computation/expressions.py:21: UserWarning: Pandas requires version '2.8.4' or newer of 'numexpr' (version '2.8.1' currently installed).\n",
      "  from pandas.core.computation.check import NUMEXPR_INSTALLED\n",
      "/home/codespace/anaconda3/lib/python3.9/site-packages/pandas/core/arrays/masked.py:60: UserWarning: Pandas requires version '1.3.6' or newer of 'bottleneck' (version '1.3.4' currently installed).\n",
      "  from pandas.core import (\n"
     ]
    }
   ],
   "source": [
    "import pandas as pd\n",
    "from sklearn.model_selection import train_test_split\n",
    "from sklearn.feature_extraction import DictVectorizer\n",
    "from sklearn.linear_model import LinearRegression\n",
    "from sklearn.metrics import mean_squared_error\n",
    "import numpy as np"
   ]
  },
  {
   "cell_type": "markdown",
   "metadata": {},
   "source": [
    "### Read the data for January. How many columns are there?"
   ]
  },
  {
   "cell_type": "code",
   "execution_count": 2,
   "metadata": {},
   "outputs": [
    {
     "name": "stdout",
     "output_type": "stream",
     "text": [
      "19\n",
      "19\n"
     ]
    }
   ],
   "source": [
    "data_jan = pd.read_parquet('/workspaces/mlops_stuff/dataset/yellow_tripdata_2023-01.parquet')\n",
    "data_feb = pd.read_parquet('/workspaces/mlops_stuff/dataset/yellow_tripdata_2023-02.parquet')\n",
    "print(len(data_jan.columns))\n",
    "print(len(data_feb.columns))"
   ]
  },
  {
   "cell_type": "markdown",
   "metadata": {},
   "source": [
    "### What's the standard deviation of the trips duration in January?"
   ]
  },
  {
   "cell_type": "code",
   "execution_count": 3,
   "metadata": {},
   "outputs": [
    {
     "name": "stdout",
     "output_type": "stream",
     "text": [
      "42.59435124195458\n"
     ]
    }
   ],
   "source": [
    "data_jan['duration'] = data_jan['tpep_dropoff_datetime'] - data_jan['tpep_pickup_datetime']\n",
    "data_jan['duration_minutes'] = data_jan['duration'].dt.total_seconds() / 60\n",
    "print(data_jan['duration_minutes'].std())"
   ]
  },
  {
   "cell_type": "code",
   "execution_count": 4,
   "metadata": {},
   "outputs": [
    {
     "name": "stdout",
     "output_type": "stream",
     "text": [
      "42.84210176105113\n"
     ]
    }
   ],
   "source": [
    "data_feb['duration'] = data_feb['tpep_dropoff_datetime'] - data_feb['tpep_pickup_datetime']\n",
    "data_feb['duration_minutes'] = data_feb['duration'].dt.total_seconds() / 60\n",
    "print(data_feb['duration_minutes'].std())"
   ]
  },
  {
   "cell_type": "markdown",
   "metadata": {},
   "source": [
    "### What fraction of the records left after you dropped the outliers?"
   ]
  },
  {
   "cell_type": "code",
   "execution_count": 5,
   "metadata": {},
   "outputs": [
    {
     "name": "stdout",
     "output_type": "stream",
     "text": [
      "We removed 1.88 % of the rows.\n",
      "So there is 98.12% left.\n"
     ]
    }
   ],
   "source": [
    "train_data_clean = data_jan[data_jan['duration_minutes'].between(1.0, 60.0)]\n",
    "difference = len(data_jan['duration_minutes']) - len(train_data_clean['duration_minutes'])\n",
    "print(f\"We removed {(100*difference/len(data_jan['duration_minutes'])):0.2f} % of the rows.\")\n",
    "print(f\"So there is {100 - 1.88}% left.\")"
   ]
  },
  {
   "cell_type": "code",
   "execution_count": 6,
   "metadata": {},
   "outputs": [
    {
     "name": "stdout",
     "output_type": "stream",
     "text": [
      "We removed 1.99 % of the rows.\n",
      "So there is 98.01% left.\n"
     ]
    }
   ],
   "source": [
    "val_data_clean = data_feb[data_feb['duration_minutes'].between(1.0, 60.0)]\n",
    "difference = len(data_feb['duration_minutes']) - len(val_data_clean['duration_minutes'])\n",
    "print(f\"We removed {(100*difference/len(data_feb['duration_minutes'])):0.2f} % of the rows.\")\n",
    "print(f\"So there is {100 - 1.99}% left.\")"
   ]
  },
  {
   "cell_type": "markdown",
   "metadata": {},
   "source": [
    "## Linear regression \n"
   ]
  },
  {
   "cell_type": "code",
   "execution_count": 7,
   "metadata": {},
   "outputs": [],
   "source": [
    "train_location_data = pd.DataFrame({\n",
    "    'PULocationID': train_data_clean['PULocationID'].apply(str),\n",
    "    'DOLocationID': train_data_clean['DOLocationID'].apply(str)\n",
    "})\n",
    "train_location_dicts = train_location_data.to_dict('records')\n",
    "\n",
    "# For validation data\n",
    "val_location_data = pd.DataFrame({\n",
    "    'PULocationID': val_data_clean['PULocationID'].apply(str),\n",
    "    'DOLocationID': val_data_clean['DOLocationID'].apply(str)\n",
    "})\n",
    "val_location_dicts = val_location_data.to_dict('records')\n"
   ]
  },
  {
   "cell_type": "markdown",
   "metadata": {},
   "source": [
    "### Apply one hot encoding to PULocation and to DOLocation\n",
    "One-hot encoding is a technique used to convert categorical data into a binary format where each category is represented by a separate column with a 1 indicating its presence and 0s for all other categories."
   ]
  },
  {
   "cell_type": "code",
   "execution_count": 8,
   "metadata": {},
   "outputs": [
    {
     "name": "stdout",
     "output_type": "stream",
     "text": [
      "Shape of training matrix: (3009173, 515)\n",
      "Number of features: 515\n",
      "3009173\n"
     ]
    }
   ],
   "source": [
    "vectorizer = DictVectorizer(sparse=True)\n",
    "X_train = vectorizer.fit_transform(train_location_dicts)\n",
    "print(f\"Shape of training matrix: {X_train.shape}\")\n",
    "print(f\"Number of features: {len(vectorizer.get_feature_names_out())}\")\n",
    "\n",
    "y_train = train_data_clean['duration_minutes'].values\n",
    "print(len(y_train))"
   ]
  },
  {
   "cell_type": "code",
   "execution_count": 9,
   "metadata": {},
   "outputs": [
    {
     "name": "stdout",
     "output_type": "stream",
     "text": [
      "Shape of val matrix: (2855951, 515)\n",
      "Number of features: 515\n",
      "Len val 2855951\n"
     ]
    }
   ],
   "source": [
    "X_val = vectorizer.transform(val_location_dicts)\n",
    "print(f\"Shape of val matrix: {X_val.shape}\")\n",
    "print(f\"Number of features: {len(vectorizer.get_feature_names_out())}\")\n",
    "\n",
    "y_val = val_data_clean['duration_minutes'].values\n",
    "print(f\"Len val {len(y_val)}\")"
   ]
  },
  {
   "cell_type": "code",
   "execution_count": 10,
   "metadata": {},
   "outputs": [
    {
     "data": {
      "text/plain": [
       "LinearRegression()"
      ]
     },
     "execution_count": 10,
     "metadata": {},
     "output_type": "execute_result"
    }
   ],
   "source": [
    "model = LinearRegression()\n",
    "model.fit(X_train, y_train)"
   ]
  },
  {
   "cell_type": "code",
   "execution_count": 12,
   "metadata": {},
   "outputs": [
    {
     "name": "stdout",
     "output_type": "stream",
     "text": [
      "RMSE on training data: 7.6493 minutes\n"
     ]
    }
   ],
   "source": [
    "train_pred = model.predict(X_train)\n",
    "train_rmse = np.sqrt(mean_squared_error(y_train, train_pred))\n",
    "print(f\"RMSE on training data: {train_rmse:.4f} minutes\")"
   ]
  },
  {
   "cell_type": "code",
   "execution_count": 13,
   "metadata": {},
   "outputs": [
    {
     "name": "stdout",
     "output_type": "stream",
     "text": [
      "RMSE on val data: 7.8118 minutes\n"
     ]
    }
   ],
   "source": [
    "val_pred = model.predict(X_val)\n",
    "val_rmse = np.sqrt(mean_squared_error(y_val, val_pred))\n",
    "print(f\"RMSE on val data: {val_rmse:.4f} minutes\")"
   ]
  }
 ],
 "metadata": {
  "kernelspec": {
   "display_name": "Python 3",
   "language": "python",
   "name": "python3"
  },
  "language_info": {
   "codemirror_mode": {
    "name": "ipython",
    "version": 3
   },
   "file_extension": ".py",
   "mimetype": "text/x-python",
   "name": "python",
   "nbconvert_exporter": "python",
   "pygments_lexer": "ipython3",
   "version": "3.9.12"
  }
 },
 "nbformat": 4,
 "nbformat_minor": 2
}
