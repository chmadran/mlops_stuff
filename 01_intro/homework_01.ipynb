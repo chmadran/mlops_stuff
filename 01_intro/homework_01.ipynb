{
 "cells": [
  {
   "cell_type": "markdown",
   "metadata": {},
   "source": [
    "## HOMEWORK 1"
   ]
  },
  {
   "cell_type": "code",
   "execution_count": 1,
   "metadata": {},
   "outputs": [
    {
     "name": "stderr",
     "output_type": "stream",
     "text": [
      "/home/codespace/anaconda3/lib/python3.9/site-packages/pandas/core/computation/expressions.py:21: UserWarning: Pandas requires version '2.8.4' or newer of 'numexpr' (version '2.8.1' currently installed).\n",
      "  from pandas.core.computation.check import NUMEXPR_INSTALLED\n",
      "/home/codespace/anaconda3/lib/python3.9/site-packages/pandas/core/arrays/masked.py:60: UserWarning: Pandas requires version '1.3.6' or newer of 'bottleneck' (version '1.3.4' currently installed).\n",
      "  from pandas.core import (\n"
     ]
    }
   ],
   "source": [
    "import pandas as pd\n",
    "from sklearn.model_selection import train_test_split\n",
    "from sklearn.feature_extraction import DictVectorizer\n",
    "from sklearn.linear_model import LinearRegression\n",
    "from sklearn.metrics import mean_squared_error\n",
    "import numpy as np"
   ]
  },
  {
   "cell_type": "markdown",
   "metadata": {},
   "source": [
    "### Read the data for January. How many columns are there?"
   ]
  },
  {
   "cell_type": "code",
   "execution_count": 2,
   "metadata": {},
   "outputs": [
    {
     "name": "stdout",
     "output_type": "stream",
     "text": [
      "19\n"
     ]
    }
   ],
   "source": [
    "data = pd.read_parquet('/workspaces/mlops_stuff/dataset/yellow_tripdata_2023-01.parquet')\n",
    "print(len(data.columns))"
   ]
  },
  {
   "cell_type": "markdown",
   "metadata": {},
   "source": [
    "### What's the standard deviation of the trips duration in January?"
   ]
  },
  {
   "cell_type": "code",
   "execution_count": 3,
   "metadata": {},
   "outputs": [
    {
     "name": "stdout",
     "output_type": "stream",
     "text": [
      "42.59435124195458\n"
     ]
    }
   ],
   "source": [
    "data['duration'] = data['tpep_dropoff_datetime'] - data['tpep_pickup_datetime']\n",
    "data['duration_minutes'] = data['duration'].dt.total_seconds() / 60\n",
    "print(data['duration_minutes'].std())"
   ]
  },
  {
   "cell_type": "markdown",
   "metadata": {},
   "source": [
    "### What fraction of the records left after you dropped the outliers?"
   ]
  },
  {
   "cell_type": "code",
   "execution_count": 4,
   "metadata": {},
   "outputs": [
    {
     "name": "stdout",
     "output_type": "stream",
     "text": [
      "We removed 1.88 % of the rows.\n",
      "So there is 98.12% left.\n"
     ]
    }
   ],
   "source": [
    "data_clean = data[data['duration_minutes'].between(1.0, 60.0)]\n",
    "difference = len(data['duration_minutes']) - len(data_clean['duration_minutes'])\n",
    "print(f\"We removed {(100*difference/len(data['duration_minutes'])):0.2f} % of the rows.\")\n",
    "print(f\"So there is {100 - 1.88}% left.\")"
   ]
  },
  {
   "cell_type": "markdown",
   "metadata": {},
   "source": [
    "## Linear regression \n",
    "\n",
    "First step, split the data into training set and val set."
   ]
  },
  {
   "cell_type": "code",
   "execution_count": 5,
   "metadata": {},
   "outputs": [],
   "source": [
    "train_data, val_data = train_test_split(data_clean, test_size=0.2, random_state=42)"
   ]
  },
  {
   "cell_type": "code",
   "execution_count": 6,
   "metadata": {},
   "outputs": [],
   "source": [
    "train_location_data = pd.DataFrame({\n",
    "    'PULocationID': train_data['PULocationID'].apply(str),\n",
    "    'DOLocationID': train_data['DOLocationID'].apply(str)\n",
    "})\n",
    "train_location_dicts = train_location_data.to_dict('records')\n",
    "\n",
    "val_location_data = pd.DataFrame({\n",
    "    'PULocationID': val_data['PULocationID'].apply(str),\n",
    "    'DOLocationID': val_data['DOLocationID'].apply(str)\n",
    "})\n",
    "val_location_dicts = val_location_data.to_dict('records')\n"
   ]
  },
  {
   "cell_type": "markdown",
   "metadata": {},
   "source": [
    "### Apply one hot encoding to PULocation and to DOLocation\n",
    "One-hot encoding is a technique used to convert categorical data into a binary format where each category is represented by a separate column with a 1 indicating its presence and 0s for all other categories."
   ]
  },
  {
   "cell_type": "code",
   "execution_count": 7,
   "metadata": {},
   "outputs": [
    {
     "name": "stdout",
     "output_type": "stream",
     "text": [
      "Shape of training matrix: (2407338, 513)\n",
      "Number of features: 513\n",
      "Shape of val matrix: (601835, 513)\n"
     ]
    }
   ],
   "source": [
    "vectorizer = DictVectorizer(sparse=True)\n",
    "X_train = vectorizer.fit_transform(train_location_dicts)\n",
    "print(f\"Shape of training matrix: {X_train.shape}\")\n",
    "print(f\"Number of features: {len(vectorizer.get_feature_names_out())}\")\n",
    "\n",
    "X_val = vectorizer.transform(val_location_dicts)\n",
    "print(f\"Shape of val matrix: {X_val.shape}\")\n"
   ]
  },
  {
   "cell_type": "code",
   "execution_count": 8,
   "metadata": {},
   "outputs": [],
   "source": [
    "y_train = train_data['duration_minutes'].values\n",
    "y_val = val_data['duration_minutes'].values"
   ]
  },
  {
   "cell_type": "code",
   "execution_count": 9,
   "metadata": {},
   "outputs": [
    {
     "data": {
      "text/plain": [
       "LinearRegression()"
      ]
     },
     "execution_count": 9,
     "metadata": {},
     "output_type": "execute_result"
    }
   ],
   "source": [
    "model = LinearRegression()\n",
    "model.fit(X_train, y_train)"
   ]
  },
  {
   "cell_type": "code",
   "execution_count": 10,
   "metadata": {},
   "outputs": [
    {
     "name": "stdout",
     "output_type": "stream",
     "text": [
      "RMSE on training data: 7.6481 minutes\n"
     ]
    }
   ],
   "source": [
    "train_pred = model.predict(X_train)\n",
    "train_rmse = np.sqrt(mean_squared_error(y_train, train_pred))\n",
    "print(f\"RMSE on training data: {train_rmse:.4f} minutes\")"
   ]
  },
  {
   "cell_type": "code",
   "execution_count": 11,
   "metadata": {},
   "outputs": [
    {
     "name": "stdout",
     "output_type": "stream",
     "text": [
      "RMSE on val data: 7.6567 minutes\n"
     ]
    }
   ],
   "source": [
    "val_pred = model.predict(X_val)\n",
    "val_rmse = np.sqrt(mean_squared_error(y_val, val_pred))\n",
    "print(f\"RMSE on val data: {val_rmse:.4f} minutes\")"
   ]
  }
 ],
 "metadata": {
  "kernelspec": {
   "display_name": "Python 3",
   "language": "python",
   "name": "python3"
  },
  "language_info": {
   "codemirror_mode": {
    "name": "ipython",
    "version": 3
   },
   "file_extension": ".py",
   "mimetype": "text/x-python",
   "name": "python",
   "nbconvert_exporter": "python",
   "pygments_lexer": "ipython3",
   "version": "3.9.12"
  }
 },
 "nbformat": 4,
 "nbformat_minor": 2
}
